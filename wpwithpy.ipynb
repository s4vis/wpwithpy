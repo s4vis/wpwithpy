{
 "cells": [
  {
   "cell_type": "code",
   "execution_count": null,
   "id": "3c24ce9c",
   "metadata": {},
   "outputs": [],
   "source": [
    "import pywhatkit as kit\n",
    "\n",
    "try :              #Gönderilecek num #Yazı                               #Gönderilecek saat\n",
    "    kit.sendwhatmsg(\"+90**********\",\"selam bu mesajı python ile gönderdim.\",21,35)\n",
    "    print(\"Gönderme başarılı.\")\n",
    "except :\n",
    "    print(\"Beklenmeyen bir hata oluştu.\")"
   ]
  }
 ],
 "metadata": {
  "kernelspec": {
   "display_name": "Python 3 (ipykernel)",
   "language": "python",
   "name": "python3"
  },
  "language_info": {
   "codemirror_mode": {
    "name": "ipython",
    "version": 3
   },
   "file_extension": ".py",
   "mimetype": "text/x-python",
   "name": "python",
   "nbconvert_exporter": "python",
   "pygments_lexer": "ipython3",
   "version": "3.9.12"
  }
 },
 "nbformat": 4,
 "nbformat_minor": 5
}
